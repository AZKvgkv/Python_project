{
 "cells": [
  {
   "cell_type": "code",
   "execution_count": 2,
   "id": "initial_id",
   "metadata": {
    "ExecuteTime": {
     "end_time": "2024-02-03T06:46:18.559113500Z",
     "start_time": "2024-02-03T06:46:17.519954400Z"
    },
    "collapsed": true
   },
   "outputs": [],
   "source": [
    "import matplotlib.pyplot as plt\n",
    "import numpy as np"
   ]
  },
  {
   "cell_type": "code",
   "execution_count": 3,
   "id": "1f04a722a0bb6b30",
   "metadata": {
    "ExecuteTime": {
     "end_time": "2024-02-03T06:46:18.566508200Z",
     "start_time": "2024-02-03T06:46:18.561114Z"
    },
    "collapsed": false
   },
   "outputs": [],
   "source": [
    "score = np.array([[80, 89, 86, 67, 79],\n",
    "                  [78, 97, 85, 67, 81],\n",
    "                  [90, 94, 78, 67, 74],\n",
    "                  [91, 91, 90, 67, 69],\n",
    "                  [76, 87, 75, 67, 86],\n",
    "                  [70, 79, 84, 67, 84],\n",
    "                  [94, 92, 93, 67, 64],\n",
    "                  [86, 85, 83, 67, 80]])"
   ]
  },
  {
   "cell_type": "code",
   "execution_count": 4,
   "id": "6e03ea1388dee70c",
   "metadata": {
    "ExecuteTime": {
     "end_time": "2024-02-03T06:46:18.569900600Z",
     "start_time": "2024-02-03T06:46:18.564007700Z"
    },
    "collapsed": false
   },
   "outputs": [
    {
     "data": {
      "text/plain": [
       "array([[80, 89, 86, 67, 79],\n",
       "       [78, 97, 85, 67, 81],\n",
       "       [90, 94, 78, 67, 74],\n",
       "       [91, 91, 90, 67, 69],\n",
       "       [76, 87, 75, 67, 86],\n",
       "       [70, 79, 84, 67, 84],\n",
       "       [94, 92, 93, 67, 64],\n",
       "       [86, 85, 83, 67, 80]])"
      ]
     },
     "execution_count": 4,
     "metadata": {},
     "output_type": "execute_result"
    }
   ],
   "source": [
    "score"
   ]
  },
  {
   "cell_type": "code",
   "execution_count": 5,
   "id": "a5f3ad204cc345d9",
   "metadata": {
    "ExecuteTime": {
     "end_time": "2024-02-03T06:46:18.578477400Z",
     "start_time": "2024-02-03T06:46:18.569032900Z"
    },
    "collapsed": false
   },
   "outputs": [
    {
     "data": {
      "text/plain": [
       "(8, 5)"
      ]
     },
     "execution_count": 5,
     "metadata": {},
     "output_type": "execute_result"
    }
   ],
   "source": [
    "score.shape"
   ]
  },
  {
   "cell_type": "code",
   "execution_count": 6,
   "id": "33a92b934619b7ef",
   "metadata": {
    "ExecuteTime": {
     "end_time": "2024-02-03T06:46:18.579477300Z",
     "start_time": "2024-02-03T06:46:18.572426700Z"
    },
    "collapsed": false
   },
   "outputs": [
    {
     "data": {
      "text/plain": [
       "dtype('int32')"
      ]
     },
     "execution_count": 6,
     "metadata": {},
     "output_type": "execute_result"
    }
   ],
   "source": [
    "score.dtype"
   ]
  },
  {
   "cell_type": "code",
   "execution_count": 7,
   "id": "4a1061389b99c42f",
   "metadata": {
    "ExecuteTime": {
     "end_time": "2024-02-03T06:46:18.579787100Z",
     "start_time": "2024-02-03T06:46:18.575449800Z"
    },
    "collapsed": false
   },
   "outputs": [
    {
     "data": {
      "text/plain": [
       "array([1.1, 2.2, 3.3], dtype=float32)"
      ]
     },
     "execution_count": 7,
     "metadata": {},
     "output_type": "execute_result"
    }
   ],
   "source": [
    "# 创建数组的时候指定类型\n",
    "np.array([1.1, 2.2, 3.3], dtype=\"float32\")"
   ]
  },
  {
   "cell_type": "markdown",
   "id": "bb691d062335fe3c",
   "metadata": {
    "collapsed": false
   },
   "source": [
    "## 基本操作"
   ]
  },
  {
   "cell_type": "markdown",
   "id": "dae0cf471b3a2932",
   "metadata": {
    "collapsed": false
   },
   "source": [
    "### 生成数组"
   ]
  },
  {
   "cell_type": "code",
   "execution_count": 8,
   "id": "417dbdb95ddbe63e",
   "metadata": {
    "ExecuteTime": {
     "end_time": "2024-02-03T06:46:18.616934800Z",
     "start_time": "2024-02-03T06:46:18.578477400Z"
    },
    "collapsed": false
   },
   "outputs": [
    {
     "data": {
      "text/plain": [
       "array([[0., 0., 0., 0.],\n",
       "       [0., 0., 0., 0.],\n",
       "       [0., 0., 0., 0.]], dtype=float32)"
      ]
     },
     "execution_count": 8,
     "metadata": {},
     "output_type": "execute_result"
    }
   ],
   "source": [
    "# 生成 0 和 1 的数组\n",
    "np.zeros(shape=(3, 4), dtype=\"float32\")"
   ]
  },
  {
   "cell_type": "code",
   "execution_count": 9,
   "id": "fa08555c4b5da3c8",
   "metadata": {
    "ExecuteTime": {
     "end_time": "2024-02-03T06:46:18.617439600Z",
     "start_time": "2024-02-03T06:46:18.582298200Z"
    },
    "collapsed": false
   },
   "outputs": [
    {
     "data": {
      "text/plain": [
       "array([[1, 1, 1],\n",
       "       [1, 1, 1]])"
      ]
     },
     "execution_count": 9,
     "metadata": {},
     "output_type": "execute_result"
    }
   ],
   "source": [
    "np.ones(shape=[2, 3], dtype=np.int32)"
   ]
  },
  {
   "cell_type": "code",
   "execution_count": 10,
   "id": "2960beb2896cb0d5",
   "metadata": {
    "ExecuteTime": {
     "end_time": "2024-02-03T06:46:18.618441500Z",
     "start_time": "2024-02-03T06:46:18.584212400Z"
    },
    "collapsed": false
   },
   "outputs": [
    {
     "data": {
      "text/plain": [
       "array([[80, 89, 86, 67, 79],\n",
       "       [78, 97, 85, 67, 81],\n",
       "       [90, 94, 78, 67, 74],\n",
       "       [91, 91, 90, 67, 69],\n",
       "       [76, 87, 75, 67, 86],\n",
       "       [70, 79, 84, 67, 84],\n",
       "       [94, 92, 93, 67, 64],\n",
       "       [86, 85, 83, 67, 80]])"
      ]
     },
     "execution_count": 10,
     "metadata": {},
     "output_type": "execute_result"
    }
   ],
   "source": [
    "# 从现有的数组中生成\n",
    "# 深拷贝\n",
    "data1 = np.array(score)\n",
    "data1"
   ]
  },
  {
   "cell_type": "code",
   "execution_count": 11,
   "id": "b93a7cd0a1bea4e6",
   "metadata": {
    "ExecuteTime": {
     "end_time": "2024-02-03T06:46:18.618946600Z",
     "start_time": "2024-02-03T06:46:18.587103600Z"
    },
    "collapsed": false
   },
   "outputs": [
    {
     "data": {
      "text/plain": [
       "array([[80, 89, 86, 67, 79],\n",
       "       [78, 97, 85, 67, 81],\n",
       "       [90, 94, 78, 67, 74],\n",
       "       [91, 91, 90, 67, 69],\n",
       "       [76, 87, 75, 67, 86],\n",
       "       [70, 79, 84, 67, 84],\n",
       "       [94, 92, 93, 67, 64],\n",
       "       [86, 85, 83, 67, 80]])"
      ]
     },
     "execution_count": 11,
     "metadata": {},
     "output_type": "execute_result"
    }
   ],
   "source": [
    "# 浅拷贝\n",
    "data2 = np.asarray(score)\n",
    "data2"
   ]
  },
  {
   "cell_type": "code",
   "execution_count": 12,
   "id": "552b294b808b8c18",
   "metadata": {
    "ExecuteTime": {
     "end_time": "2024-02-03T06:46:18.618946600Z",
     "start_time": "2024-02-03T06:46:18.591546500Z"
    },
    "collapsed": false
   },
   "outputs": [
    {
     "data": {
      "text/plain": [
       "array([[80, 89, 86, 67, 79],\n",
       "       [78, 97, 85, 67, 81],\n",
       "       [90, 94, 78, 67, 74],\n",
       "       [91, 91, 90, 67, 69],\n",
       "       [76, 87, 75, 67, 86],\n",
       "       [70, 79, 84, 67, 84],\n",
       "       [94, 92, 93, 67, 64],\n",
       "       [86, 85, 83, 67, 80]])"
      ]
     },
     "execution_count": 12,
     "metadata": {},
     "output_type": "execute_result"
    }
   ],
   "source": [
    "# 也是深拷贝\n",
    "data3 =  np.copy(score)\n",
    "data3"
   ]
  },
  {
   "cell_type": "code",
   "execution_count": 13,
   "id": "f8c93efb1fc0f89c",
   "metadata": {
    "ExecuteTime": {
     "end_time": "2024-02-03T06:46:18.619948900Z",
     "start_time": "2024-02-03T06:46:18.593664400Z"
    },
    "collapsed": false
   },
   "outputs": [
    {
     "data": {
      "text/plain": [
       "array([ 0. ,  2.5,  5. ,  7.5, 10. ])"
      ]
     },
     "execution_count": 13,
     "metadata": {},
     "output_type": "execute_result"
    }
   ],
   "source": [
    "# 生成固定范围内的数组\n",
    "np.linspace(0, 10, 5)"
   ]
  },
  {
   "cell_type": "code",
   "execution_count": 14,
   "id": "859c6d5fe6fa3647",
   "metadata": {
    "ExecuteTime": {
     "end_time": "2024-02-03T06:46:18.620948600Z",
     "start_time": "2024-02-03T06:46:18.596695300Z"
    },
    "collapsed": false
   },
   "outputs": [
    {
     "data": {
      "text/plain": [
       "array([ 0,  5, 10])"
      ]
     },
     "execution_count": 14,
     "metadata": {},
     "output_type": "execute_result"
    }
   ],
   "source": [
    "np.arange(0, 11, 5)"
   ]
  },
  {
   "cell_type": "code",
   "execution_count": 15,
   "id": "547c5e3ae6e33cda",
   "metadata": {
    "ExecuteTime": {
     "end_time": "2024-02-03T06:46:18.620948600Z",
     "start_time": "2024-02-03T06:46:18.600634300Z"
    },
    "collapsed": false
   },
   "outputs": [
    {
     "data": {
      "text/plain": [
       "array([[ 0.46646547,  0.51210472,  0.58648034, -0.245533  ],\n",
       "       [-0.61913335,  0.7349098 ,  0.10083711, -0.97812307],\n",
       "       [ 0.32576885, -0.5223531 , -0.31598378,  0.8603493 ]])"
      ]
     },
     "execution_count": 15,
     "metadata": {},
     "output_type": "execute_result"
    }
   ],
   "source": [
    "#  生成随机数组\n",
    "# 生成均匀分布的一组数[low,high)\n",
    "data4 = np.random.uniform(low=-1, high=1, size=(3, 4))\n",
    "data4"
   ]
  },
  {
   "cell_type": "code",
   "execution_count": 16,
   "id": "41e701c32c87a2b7",
   "metadata": {
    "ExecuteTime": {
     "end_time": "2024-02-03T06:46:18.663093900Z",
     "start_time": "2024-02-03T06:46:18.603210700Z"
    },
    "collapsed": false
   },
   "outputs": [
    {
     "data": {
      "text/plain": [
       "array([1.73338956, 1.68834551, 1.7161314 , ..., 1.86684784, 1.66537772,\n",
       "       1.74076402])"
      ]
     },
     "execution_count": 16,
     "metadata": {},
     "output_type": "execute_result"
    }
   ],
   "source": [
    "# 生成正态分布的一组数，loc：均值；scale：标准差\n",
    "data5 =  np.random.normal(loc=1.75, scale=0.1, size=1000000)\n",
    "data5"
   ]
  },
  {
   "cell_type": "code",
   "execution_count": 17,
   "id": "454d85439769d072",
   "metadata": {
    "ExecuteTime": {
     "end_time": "2024-02-03T06:46:19.037120600Z",
     "start_time": "2024-02-03T06:46:18.618946600Z"
    },
    "collapsed": false
   },
   "outputs": [
    {
     "data": {
      "image/png": "[encoded data removed]",
      "text/plain": [
       "<Figure size 1000x600 with 1 Axes>"
      ]
     },
     "metadata": {},
     "output_type": "display_data"
    }
   ],
   "source": [
    "plt.figure(figsize=(10, 6), dpi=100)\n",
    "plt.hist(data5, bins=1000)\n",
    "plt.show()"
   ]
  },
  {
   "cell_type": "markdown",
   "id": "d9ecdbb15ff1f301",
   "metadata": {
    "collapsed": false
   },
   "source": [
    "### 数组索引和切片"
   ]
  },
  {
   "cell_type": "code",
   "execution_count": 18,
   "id": "e017ddb9dc72c94f",
   "metadata": {
    "ExecuteTime": {
     "end_time": "2024-02-03T06:46:19.044775300Z",
     "start_time": "2024-02-03T06:46:19.038121900Z"
    },
    "collapsed": false
   },
   "outputs": [
    {
     "data": {
      "text/plain": [
       "array([[ 0.64489201, -0.91439352, -0.02891259, -1.42735256, -0.5831778 ,\n",
       "         1.18450421, -1.1445899 , -0.16880618,  1.85483041,  0.67717262],\n",
       "       [-0.344465  , -0.39698381, -0.99886028, -3.11614314, -0.60662424,\n",
       "        -1.94246191,  1.11757872, -0.4367187 ,  1.46035088, -0.96439824],\n",
       "       [ 0.03056119, -0.16333849,  0.59124936,  0.22017093, -0.65101057,\n",
       "         0.92600383, -0.58514174, -1.1730837 ,  0.44333025, -0.60220258],\n",
       "       [ 0.77998224, -0.36114048, -1.72903275, -0.6868038 ,  0.72028294,\n",
       "        -2.59332949,  0.56102518,  1.34134195, -0.8756817 , -1.0301825 ],\n",
       "       [-0.73612053,  0.01270949,  0.32644298,  0.24185769, -0.23104661,\n",
       "        -0.11502651, -0.66040385, -0.81060722,  0.8836146 , -0.52319895],\n",
       "       [-1.12585149, -0.43327415,  0.8558899 ,  2.30753991,  0.41206752,\n",
       "         0.00663439, -0.16035892,  0.92282765,  0.17407938, -0.42481787],\n",
       "       [-2.09881589,  1.56806009,  0.76471399, -1.0250379 , -0.74718109,\n",
       "         0.24382395,  1.10620332,  0.44904612, -0.03544078, -0.83069898],\n",
       "       [ 0.27160257,  1.31752969, -0.24452143,  1.63319023,  0.26293347,\n",
       "        -1.82747827,  1.33668663,  1.60666087,  0.13942315, -0.37157143]])"
      ]
     },
     "execution_count": 18,
     "metadata": {},
     "output_type": "execute_result"
    }
   ],
   "source": [
    "import numpy as np\n",
    "store_change = np.random.normal(loc=0, scale=1, size=(8, 10))\n",
    "# 获取第一个股票前3个交易日的涨跌幅数据\n",
    "# print(store_change[0, :3])\n",
    "\n",
    "store_change"
   ]
  },
  {
   "cell_type": "code",
   "execution_count": 19,
   "id": "611a5616050229d5",
   "metadata": {
    "ExecuteTime": {
     "end_time": "2024-02-03T06:46:19.045946800Z",
     "start_time": "2024-02-03T06:46:19.041217700Z"
    },
    "collapsed": false
   },
   "outputs": [
    {
     "data": {
      "text/plain": [
       "array([[[ 1,  2,  3],\n",
       "        [ 4,  5,  6]],\n",
       "\n",
       "       [[ 7,  8,  9],\n",
       "        [10, 11, 12]]])"
      ]
     },
     "execution_count": 19,
     "metadata": {},
     "output_type": "execute_result"
    }
   ],
   "source": [
    "a1 = np.array([[[1, 2, 3], [4, 5, 6]], [[7, 8, 9], [10, 11, 12]]])\n",
    "a1"
   ]
  },
  {
   "cell_type": "code",
   "execution_count": 20,
   "id": "76acc2122ca75dcc",
   "metadata": {
    "ExecuteTime": {
     "end_time": "2024-02-03T06:46:19.052562700Z",
     "start_time": "2024-02-03T06:46:19.044946600Z"
    },
    "collapsed": false
   },
   "outputs": [
    {
     "data": {
      "text/plain": [
       "(2, 2, 3)"
      ]
     },
     "execution_count": 20,
     "metadata": {},
     "output_type": "execute_result"
    }
   ],
   "source": [
    "a1.shape"
   ]
  },
  {
   "cell_type": "code",
   "execution_count": 21,
   "id": "b4afbccdf6d282",
   "metadata": {
    "ExecuteTime": {
     "end_time": "2024-02-03T06:46:19.053067500Z",
     "start_time": "2024-02-03T06:46:19.048011Z"
    },
    "collapsed": false
   },
   "outputs": [
    {
     "data": {
      "text/plain": [
       "array([[[ 1,  2,  3],\n",
       "        [ 4,  5,  6]],\n",
       "\n",
       "       [[ 7,  8, 11],\n",
       "        [10, 11, 12]]])"
      ]
     },
     "execution_count": 21,
     "metadata": {},
     "output_type": "execute_result"
    }
   ],
   "source": [
    "a1[1, 0, 2] = 11\n",
    "a1"
   ]
  },
  {
   "cell_type": "code",
   "execution_count": 22,
   "id": "87d32d4e24513b49",
   "metadata": {
    "ExecuteTime": {
     "end_time": "2024-02-03T06:46:19.054074Z",
     "start_time": "2024-02-03T06:46:19.050923200Z"
    },
    "collapsed": false
   },
   "outputs": [
    {
     "data": {
      "text/plain": [
       "array([[ 0.64489201, -0.91439352, -0.02891259, -1.42735256, -0.5831778 ,\n",
       "         1.18450421, -1.1445899 , -0.16880618],\n",
       "       [ 1.85483041,  0.67717262, -0.344465  , -0.39698381, -0.99886028,\n",
       "        -3.11614314, -0.60662424, -1.94246191],\n",
       "       [ 1.11757872, -0.4367187 ,  1.46035088, -0.96439824,  0.03056119,\n",
       "        -0.16333849,  0.59124936,  0.22017093],\n",
       "       [-0.65101057,  0.92600383, -0.58514174, -1.1730837 ,  0.44333025,\n",
       "        -0.60220258,  0.77998224, -0.36114048],\n",
       "       [-1.72903275, -0.6868038 ,  0.72028294, -2.59332949,  0.56102518,\n",
       "         1.34134195, -0.8756817 , -1.0301825 ],\n",
       "       [-0.73612053,  0.01270949,  0.32644298,  0.24185769, -0.23104661,\n",
       "        -0.11502651, -0.66040385, -0.81060722],\n",
       "       [ 0.8836146 , -0.52319895, -1.12585149, -0.43327415,  0.8558899 ,\n",
       "         2.30753991,  0.41206752,  0.00663439],\n",
       "       [-0.16035892,  0.92282765,  0.17407938, -0.42481787, -2.09881589,\n",
       "         1.56806009,  0.76471399, -1.0250379 ],\n",
       "       [-0.74718109,  0.24382395,  1.10620332,  0.44904612, -0.03544078,\n",
       "        -0.83069898,  0.27160257,  1.31752969],\n",
       "       [-0.24452143,  1.63319023,  0.26293347, -1.82747827,  1.33668663,\n",
       "         1.60666087,  0.13942315, -0.37157143]])"
      ]
     },
     "execution_count": 22,
     "metadata": {},
     "output_type": "execute_result"
    }
   ],
   "source": [
    "# 形状修改\n",
    "store_change.reshape(10, 8)"
   ]
  },
  {
   "cell_type": "code",
   "execution_count": 23,
   "id": "e55513f40f817d66",
   "metadata": {
    "ExecuteTime": {
     "end_time": "2024-02-03T06:46:19.060987900Z",
     "start_time": "2024-02-03T06:46:19.054074Z"
    },
    "collapsed": false
   },
   "outputs": [],
   "source": [
    "store_change.resize(10, 8)"
   ]
  },
  {
   "cell_type": "code",
   "execution_count": 24,
   "id": "db732330464c32c9",
   "metadata": {
    "ExecuteTime": {
     "end_time": "2024-02-03T06:46:19.143096100Z",
     "start_time": "2024-02-03T06:46:19.056584400Z"
    },
    "collapsed": false
   },
   "outputs": [
    {
     "data": {
      "text/plain": [
       "array([[ 0.64489201,  1.85483041,  1.11757872, -0.65101057, -1.72903275,\n",
       "        -0.73612053,  0.8836146 , -0.16035892, -0.74718109, -0.24452143],\n",
       "       [-0.91439352,  0.67717262, -0.4367187 ,  0.92600383, -0.6868038 ,\n",
       "         0.01270949, -0.52319895,  0.92282765,  0.24382395,  1.63319023],\n",
       "       [-0.02891259, -0.344465  ,  1.46035088, -0.58514174,  0.72028294,\n",
       "         0.32644298, -1.12585149,  0.17407938,  1.10620332,  0.26293347],\n",
       "       [-1.42735256, -0.39698381, -0.96439824, -1.1730837 , -2.59332949,\n",
       "         0.24185769, -0.43327415, -0.42481787,  0.44904612, -1.82747827],\n",
       "       [-0.5831778 , -0.99886028,  0.03056119,  0.44333025,  0.56102518,\n",
       "        -0.23104661,  0.8558899 , -2.09881589, -0.03544078,  1.33668663],\n",
       "       [ 1.18450421, -3.11614314, -0.16333849, -0.60220258,  1.34134195,\n",
       "        -0.11502651,  2.30753991,  1.56806009, -0.83069898,  1.60666087],\n",
       "       [-1.1445899 , -0.60662424,  0.59124936,  0.77998224, -0.8756817 ,\n",
       "        -0.66040385,  0.41206752,  0.76471399,  0.27160257,  0.13942315],\n",
       "       [-0.16880618, -1.94246191,  0.22017093, -0.36114048, -1.0301825 ,\n",
       "        -0.81060722,  0.00663439, -1.0250379 ,  1.31752969, -0.37157143]])"
      ]
     },
     "execution_count": 24,
     "metadata": {},
     "output_type": "execute_result"
    }
   ],
   "source": [
    "store_change.T"
   ]
  },
  {
   "cell_type": "code",
   "execution_count": 25,
   "id": "73f21b04fd5f7f00",
   "metadata": {
    "ExecuteTime": {
     "end_time": "2024-02-03T06:46:19.144102100Z",
     "start_time": "2024-02-03T06:46:19.059736700Z"
    },
    "collapsed": false
   },
   "outputs": [
    {
     "data": {
      "text/plain": [
       "b'i\\xe4\\xc1\\x92\\xf4\\xa2\\xe4?\\x7f\\x88.4\\xb6B\\xed\\xbf\\xa0H\\xf7RC\\x9b\\x9d\\xbf\\xeb\\xb9,\\xa3o\\xd6\\xf6\\xbf\\xc6\\x8b}~d\\xa9\\xe2\\xbfIA\\xe9\\xae\\xba\\xf3\\xf2?<\\x86D\\x7f=P\\xf2\\xbf\\xbf/l\\xe4p\\x9b\\xc5\\xbf)\\x8d\\xed\\xa7b\\xad\\xfd?\\xe8]e\\xebe\\xab\\xe5?\\x0c\\x9b\\xc2\\xe9\\xb6\\x0b\\xd6\\xbf}\\x98\\xbb\\xc9.h\\xd9\\xbf\\x8b}$\\xd5\\xa9\\xf6\\xef\\xbf\\xa3\\xf2\\xdas\\xdc\\xed\\x08\\xc0x\\xa7\\xf0;wi\\xe3\\xbf\\xeb\\xf8\\xa5\\xf1R\\x14\\xff\\xbf\\xb9z\\xa08\\x9a\\xe1\\xf1?\\\\l \\xf92\\xf3\\xdb\\xbf\\xdf\\xe5%\\xe2\\x98]\\xf7?Ut\\x0c\\xb3Y\\xdc\\xee\\xbf;5&\\x0foK\\x9f?\\x0c\\xf59\\x95F\\xe8\\xc4\\xbfW\\xf12\\xc7\\x83\\xeb\\xe2?\\xfb;\\xa9\\xa2\\x8f.\\xcc?>v\\x90\\x1d\\x14\\xd5\\xe4\\xbf>3:\\xca\\xd2\\xa1\\xed?\\x80W\\x8d+{\\xb9\\xe2\\xbf\\xeb\\xda\\xc8i\\xf3\\xc4\\xf2\\xbf\\x0c\\xe2r\\xda\\x85_\\xdc?\\x98\\x8d\\xacV>E\\xe3\\xbfZ|+P\\x9d\\xf5\\xe8?\\xb6\\xd4\\x7f\\xf1\\xec\\x1c\\xd7\\xbf\\xe9\\x95X=\\x1e\\xaa\\xfb\\xbfs/x\\xf4K\\xfa\\xe5\\xbf\\xa9\\x7f\\xbc\\xcd\\x8e\\x0c\\xe7?u\\x15\\xe8\\x87#\\xbf\\x04\\xc0>\\xa7\\xa4\\x14\\xeb\\xf3\\xe1?\\x15g:\\xfb\"v\\xf5?W\\x9c\\x97\\xa1\\x95\\x05\\xec\\xbfqi\\xdb\\xa5\\xa0{\\xf0\\xbf\\xbcLL\\xa2L\\x8e\\xe7\\xbf[\\x80\\xc6\\xc5n\\x07\\x8a?\\x02\\x7f=\\x1dq\\xe4\\xd4?\\x8d\\x94 X1\\xf5\\xce?\\x95y\\xfbl\\xef\\x92\\xcd\\xbf\\xb9\\x8c\\xe9\\xad`r\\xbd\\xbf\\xa4\\x90\\xb6B\\x07\"\\xe5\\xbf\\xf8\\x1fJ\\x8d~\\xf0\\xe9\\xbfh&\\xa1\\x1e\\x92F\\xec?\\x01\\xca!\\xb8\\x0b\\xbe\\xe0\\xbfr0g\\xd9|\\x03\\xf2\\xbf\\x0f\\x917\\x81\\xc3\\xba\\xdb\\xbf\\xcb\\x17\\xc69sc\\xeb?\\x07\\xc5{|\\xd7u\\x02@mM\\x13vP_\\xda?-\\x00\\xb0\\x80\\xa9,{?\\t\\x86\\x83\\x17\\xa4\\x86\\xc4\\xbf\\xd4\\x1f-\\xd9\\xcd\\x87\\xed?\\xe8\\x8b)\\xa4;H\\xc6?\\xa0)vK70\\xdb\\xbf@\\xfd1\\xfc_\\xca\\x00\\xc0Y\\xb2\\xbc,\\xc6\\x16\\xf9?\\x10\\x08\\xb6x\\x89x\\xe8?\\xa5S!%\\x8ef\\xf0\\xbf\\xac\\n\\xa8P\\xe8\\xe8\\xe7\\xbf\\x0fB\\r\\x8b\\x9f5\\xcf?\\xb6\\x8bl?\\x02\\xb3\\xf1?-\\xd9\\xd3\\xf0+\\xbd\\xdc?\\xe5\\x98@hK%\\xa2\\xbfe\\xa8o\\x05\\x16\\x95\\xea\\xbf\\xde\\x02\\x96\\xbc\\xefa\\xd1?\\xf8\\xa3N\\x04\\x9a\\x14\\xf5?5G\\xd9nzL\\xcf\\xbf>A\\n\\x15\\x8c!\\xfa?\\xf7/\\\\\\xe7\\xe6\\xd3\\xd0?\\xa3%\\x15\\xdbY=\\xfd\\xbf\\xeai+\\x86\\x11c\\xf5?\\xb7\\x13n\\x08\\xe2\\xb4\\xf9?]\\xb3\\xc3\\'\\x9e\\xd8\\xc1?=N\\xe7\\x89\\xd3\\xc7\\xd7\\xbf'"
      ]
     },
     "execution_count": 25,
     "metadata": {},
     "output_type": "execute_result"
    }
   ],
   "source": [
    "# 类型修改\n",
    "store_change.astype(\"int32\")\n",
    "store_change.tobytes()"
   ]
  },
  {
   "cell_type": "code",
   "execution_count": 26,
   "id": "411f56457bb961b5",
   "metadata": {
    "ExecuteTime": {
     "end_time": "2024-02-03T06:46:19.144102100Z",
     "start_time": "2024-02-03T06:46:19.062499Z"
    },
    "collapsed": false
   },
   "outputs": [
    {
     "data": {
      "text/plain": [
       "{1, 2, 3, 4, 5, 6}"
      ]
     },
     "execution_count": 26,
     "metadata": {},
     "output_type": "execute_result"
    }
   ],
   "source": [
    "# 数组去重\n",
    "temp = np.array([[1, 2, 3, 4], [3, 4, 5, 6]])\n",
    "np.unique(temp)\n",
    "set(temp.flatten())"
   ]
  },
  {
   "cell_type": "markdown",
   "id": "5e6cead63ab6d6df",
   "metadata": {
    "collapsed": false
   },
   "source": [
    "## ndarray 运算"
   ]
  },
  {
   "cell_type": "markdown",
   "id": "6835be135b02b3de",
   "metadata": {
    "collapsed": false
   },
   "source": [
    "### 逻辑运算"
   ]
  },
  {
   "cell_type": "code",
   "execution_count": 27,
   "id": "7ee58146dee56817",
   "metadata": {
    "ExecuteTime": {
     "end_time": "2024-02-03T06:46:19.145097800Z",
     "start_time": "2024-02-03T06:46:19.066257900Z"
    },
    "collapsed": false
   },
   "outputs": [
    {
     "data": {
      "text/plain": [
       "array([[ True, False, False, False, False,  True, False, False],\n",
       "       [ True,  True, False, False, False, False, False, False],\n",
       "       [ True, False,  True, False, False, False,  True, False],\n",
       "       [False,  True, False, False, False, False,  True, False],\n",
       "       [False, False,  True, False,  True,  True, False, False],\n",
       "       [False, False, False, False, False, False, False, False],\n",
       "       [ True, False, False, False,  True,  True, False, False],\n",
       "       [False,  True, False, False, False,  True,  True, False],\n",
       "       [False, False,  True, False, False, False, False,  True],\n",
       "       [False,  True, False, False,  True,  True, False, False]])"
      ]
     },
     "execution_count": 27,
     "metadata": {},
     "output_type": "execute_result"
    }
   ],
   "source": [
    "# 运算符\n",
    "store_change > 0.5"
   ]
  },
  {
   "cell_type": "code",
   "execution_count": 28,
   "id": "ab7e204bdd3f3e1e",
   "metadata": {
    "ExecuteTime": {
     "end_time": "2024-02-03T06:47:42.301006500Z",
     "start_time": "2024-02-03T06:47:42.289499900Z"
    },
    "collapsed": false
   },
   "outputs": [],
   "source": [
    "store_change[store_change > 0.5] = 1.1"
   ]
  },
  {
   "cell_type": "code",
   "execution_count": 29,
   "id": "5dadd584cb23c5a2",
   "metadata": {
    "ExecuteTime": {
     "end_time": "2024-02-03T06:48:57.545896300Z",
     "start_time": "2024-02-03T06:48:57.502386800Z"
    },
    "collapsed": false
   },
   "outputs": [
    {
     "data": {
      "text/plain": [
       "False"
      ]
     },
     "execution_count": 29,
     "metadata": {},
     "output_type": "execute_result"
    }
   ],
   "source": [
    "# 通用判断函数\n",
    "# 判断stock_change[θ:2，θ:5]是否全是上涨的\n",
    "np.all(store_change[0:2, 0:5] > 0)"
   ]
  },
  {
   "cell_type": "code",
   "execution_count": 30,
   "id": "430952cbec3f4a94",
   "metadata": {
    "ExecuteTime": {
     "end_time": "2024-02-03T06:50:06.769215700Z",
     "start_time": "2024-02-03T06:50:06.758041300Z"
    },
    "collapsed": false
   },
   "outputs": [
    {
     "data": {
      "text/plain": [
       "True"
      ]
     },
     "execution_count": 30,
     "metadata": {},
     "output_type": "execute_result"
    }
   ],
   "source": [
    "# 判断前5只股票这段期间是否有上涨的\n",
    "np.any(store_change[:5, :] > 0)"
   ]
  },
  {
   "cell_type": "code",
   "execution_count": 31,
   "id": "5fb9e0af3cef1d96",
   "metadata": {
    "ExecuteTime": {
     "end_time": "2024-02-03T06:51:11.792732900Z",
     "start_time": "2024-02-03T06:51:11.774719300Z"
    },
    "collapsed": false
   },
   "outputs": [
    {
     "data": {
      "text/plain": [
       "array([[1, 1, 1, 1],\n",
       "       [1, 1, 1, 1]])"
      ]
     },
     "execution_count": 31,
     "metadata": {},
     "output_type": "execute_result"
    }
   ],
   "source": [
    "# 三元运算符\n",
    "# np.where(布尔值，True的位置的值，False的位置的值)\n",
    "np.where(temp > 0, 1, 0)"
   ]
  },
  {
   "cell_type": "code",
   "execution_count": 32,
   "id": "7e592a190185f556",
   "metadata": {
    "ExecuteTime": {
     "end_time": "2024-02-03T06:51:48.595189Z",
     "start_time": "2024-02-03T06:51:48.575397300Z"
    },
    "collapsed": false
   },
   "outputs": [
    {
     "data": {
      "text/plain": [
       "array([[0, 0, 0, 0],\n",
       "       [0, 0, 0, 0]])"
      ]
     },
     "execution_count": 32,
     "metadata": {},
     "output_type": "execute_result"
    }
   ],
   "source": [
    "# 大于0.5且小于1\n",
    "np.where(np.logical_and(temp > 0.5, temp < 1), 1, 0)"
   ]
  },
  {
   "cell_type": "code",
   "execution_count": 33,
   "id": "713bf18c11a6912d",
   "metadata": {
    "ExecuteTime": {
     "end_time": "2024-02-03T06:53:05.262103300Z",
     "start_time": "2024-02-03T06:53:05.250824300Z"
    },
    "collapsed": false
   },
   "outputs": [
    {
     "data": {
      "text/plain": [
       "array([[11, 11, 11, 11],\n",
       "       [11, 11, 11, 11]])"
      ]
     },
     "execution_count": 33,
     "metadata": {},
     "output_type": "execute_result"
    }
   ],
   "source": [
    "np.where(np.logical_or(temp > 0.5, temp < -0.5), 11, 3)"
   ]
  },
  {
   "cell_type": "markdown",
   "id": "d6a97c148fcc2c3d",
   "metadata": {
    "collapsed": false
   },
   "source": [
    "### 统计运算"
   ]
  },
  {
   "cell_type": "code",
   "execution_count": 34,
   "id": "ff561a3a",
   "metadata": {},
   "outputs": [
    {
     "data": {
      "text/plain": [
       "array([[1, 2, 3, 4],\n",
       "       [3, 4, 5, 6]])"
      ]
     },
     "execution_count": 34,
     "metadata": {},
     "output_type": "execute_result"
    }
   ],
   "source": [
    "temp"
   ]
  },
  {
   "cell_type": "code",
   "execution_count": 35,
   "id": "2674c9bc",
   "metadata": {},
   "outputs": [
    {
     "data": {
      "text/plain": [
       "array([3, 4, 5, 6])"
      ]
     },
     "execution_count": 35,
     "metadata": {},
     "output_type": "execute_result"
    }
   ],
   "source": [
    "# 统计指标函数\n",
    "temp.max(axis=0)"
   ]
  },
  {
   "cell_type": "code",
   "execution_count": 36,
   "id": "67e215ba",
   "metadata": {},
   "outputs": [
    {
     "data": {
      "text/plain": [
       "array([4, 6])"
      ]
     },
     "execution_count": 36,
     "metadata": {},
     "output_type": "execute_result"
    }
   ],
   "source": [
    "np.max(temp, axis=1)"
   ]
  },
  {
   "cell_type": "code",
   "execution_count": 37,
   "id": "9df21b1c",
   "metadata": {},
   "outputs": [
    {
     "data": {
      "text/plain": [
       "array([3, 3], dtype=int64)"
      ]
     },
     "execution_count": 37,
     "metadata": {},
     "output_type": "execute_result"
    }
   ],
   "source": [
    "np.argmax(temp, axis=-1)"
   ]
  },
  {
   "cell_type": "markdown",
   "id": "c0b1914c",
   "metadata": {},
   "source": [
    "### 数组间运算"
   ]
  },
  {
   "cell_type": "code",
   "execution_count": 39,
   "id": "6280f731",
   "metadata": {},
   "outputs": [
    {
     "data": {
      "text/plain": [
       "array([[0.1, 0.2, 0.3, 0.2, 0.1, 0.4],\n",
       "       [0.5, 0.6, 0.1, 0.2, 0.3, 0.1]])"
      ]
     },
     "execution_count": 39,
     "metadata": {},
     "output_type": "execute_result"
    }
   ],
   "source": [
    "# 数组与数的运算\n",
    "\n",
    "arr = np.array([[1, 2, 3, 2, 1, 4], [5, 6, 1, 2, 3, 1]])\n",
    "\n",
    "arr / 10"
   ]
  },
  {
   "cell_type": "code",
   "execution_count": 46,
   "id": "50fed577",
   "metadata": {},
   "outputs": [
    {
     "data": {
      "text/plain": [
       "array([[16223.5, 16535.5, 16304.5, 16529.5, 15778. , 15490. , 16625.5,\n",
       "        16196. ],\n",
       "       [16535.5, 16884. , 16625.5, 16826.5, 16098.5, 15778. , 16917. ,\n",
       "        16488.5],\n",
       "       [16304.5, 16625.5, 16492.5, 16679.5, 15860.5, 15491.5, 16793.5,\n",
       "        16306.5],\n",
       "       [16529.5, 16826.5, 16679.5, 16956. , 16003. , 15702. , 17100.5,\n",
       "        16520. ],\n",
       "       [15778. , 16098.5, 15860.5, 16003. , 15427.5, 15103. , 16058. ,\n",
       "        15762.5],\n",
       "       [15490. , 15778. , 15491.5, 15702. , 15103. , 14871. , 15762.5,\n",
       "        15458. ],\n",
       "       [16625.5, 16917. , 16793.5, 17100.5, 16058. , 15762.5, 17267. ,\n",
       "        16616. ],\n",
       "       [16196. , 16488.5, 16306.5, 16520. , 15762.5, 15458. , 16616. ,\n",
       "        16199.5]])"
      ]
     },
     "execution_count": 46,
     "metadata": {},
     "output_type": "execute_result"
    }
   ],
   "source": [
    "# 矩阵计算\n",
    "# ndarray\n",
    "data = np.array(score / 2)\n",
    "np.dot(data1, data.T)\n",
    "np.matmul(data1, data.T)\n",
    "data1 @ data.T"
   ]
  },
  {
   "cell_type": "code",
   "execution_count": 54,
   "id": "95360348",
   "metadata": {},
   "outputs": [
    {
     "name": "stdout",
     "output_type": "stream",
     "text": [
      "[[ 4  8 12]\n",
      " [ 5 10 15]\n",
      " [ 6 12 18]]\n",
      "-------------------\n",
      "[ 5 12 21]\n"
     ]
    }
   ],
   "source": [
    "# 向量的话\n",
    "data_1 = np.array([1, 2, 3])\n",
    "data_2 = np.array([[4], [5], [6]])\n",
    "data_3 = np.array([5, 6, 7])\n",
    "print(data_1 * data_2)\n",
    "print('-------------------')\n",
    "print(data_1 * data_3)"
   ]
  },
  {
   "cell_type": "markdown",
   "id": "d8b7da58",
   "metadata": {},
   "source": [
    "### 合并、分割"
   ]
  },
  {
   "cell_type": "code",
   "execution_count": 2,
   "id": "cc55eea2",
   "metadata": {},
   "outputs": [
    {
     "data": {
      "text/plain": [
       "[array([1, 2, 3]), array([4, 5, 6]), array([7, 8, 9])]"
      ]
     },
     "execution_count": 2,
     "metadata": {},
     "output_type": "execute_result"
    }
   ],
   "source": [
    "# 分割\n",
    "import numpy as np\n",
    "x = np.array([1, 2, 3, 4, 5, 6, 7, 8, 9])\n",
    "np.split(x, 3)"
   ]
  },
  {
   "cell_type": "code",
   "execution_count": 3,
   "id": "3e9b59f9",
   "metadata": {},
   "outputs": [
    {
     "data": {
      "text/plain": [
       "[array([1, 2]), array([3, 4, 5]), array([6, 7]), array([8, 9])]"
      ]
     },
     "execution_count": 3,
     "metadata": {},
     "output_type": "execute_result"
    }
   ],
   "source": [
    "np.split(x, [2, 5, 7])"
   ]
  },
  {
   "cell_type": "markdown",
   "id": "ce618db9",
   "metadata": {},
   "source": [
    "### IO操作与数据处理"
   ]
  }
 ],
 "metadata": {
  "kernelspec": {
   "display_name": "Python 3",
   "language": "python",
   "name": "python3"
  },
  "language_info": {
   "codemirror_mode": {
    "name": "ipython",
    "version": 3
   },
   "file_extension": ".py",
   "mimetype": "text/x-python",
   "name": "python",
   "nbconvert_exporter": "python",
   "pygments_lexer": "ipython3",
   "version": "3.12.1"
  }
 },
 "nbformat": 4,
 "nbformat_minor": 5
}
