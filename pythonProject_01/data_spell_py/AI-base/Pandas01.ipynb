{
 "cells": [
  {
   "cell_type": "markdown",
   "metadata": {},
   "source": [
    "## 基础处理部分"
   ]
  },
  {
   "cell_type": "markdown",
   "metadata": {},
   "source": [
    "- Pandas为什么用？\n",
    "    - 核心数据结构\n",
    "        - DataFrame\n",
    "        - Panel\n",
    "        - Series\n",
    "    - 基本操作\n",
    "    - 运算\n",
    "    - 画图\n",
    "    - 文件的存储与读取"
   ]
  },
  {
   "cell_type": "code",
   "outputs": [],
   "source": [
    "import numpy as np\n",
    "\n",
    "# 创建一个符合正态分布的10个股票5天的涨幅数据\n",
    "stock_change = np.random.normal(0, 1, (10, 5))"
   ],
   "metadata": {
    "collapsed": false,
    "ExecuteTime": {
     "end_time": "2024-02-07T10:13:20.846534700Z",
     "start_time": "2024-02-07T10:13:20.499492Z"
    }
   },
   "execution_count": 2
  },
  {
   "cell_type": "code",
   "outputs": [
    {
     "data": {
      "text/plain": "array([[-1.10133108, -0.45264045,  0.04896366, -1.45817809, -0.66585844],\n       [-0.55865509,  0.94867983,  0.72347952,  0.95251442,  1.21712382],\n       [ 0.18506051, -0.29673547, -0.84917406,  2.0491795 , -0.43411394],\n       [ 0.1023863 , -0.50544421,  0.10518903, -0.33421259, -1.11901822],\n       [-0.21151869, -0.34132537,  0.87202935, -0.77328705, -0.08528794],\n       [ 0.19695036, -1.48562947,  0.10914836,  0.2070094 , -2.21089279],\n       [-1.60466388, -0.43091273, -0.18268187,  0.28052723, -0.20018938],\n       [-0.20398917,  0.76353885, -0.05621198,  0.23922946, -0.50990146],\n       [-0.72279933, -1.53008923, -1.46388131,  0.03981203,  1.7355171 ],\n       [ 1.06056249,  1.38464048, -0.92652397, -1.22024321, -0.01187094]])"
     },
     "execution_count": 3,
     "metadata": {},
     "output_type": "execute_result"
    }
   ],
   "source": [
    "stock_change"
   ],
   "metadata": {
    "collapsed": false,
    "ExecuteTime": {
     "end_time": "2024-02-07T10:13:20.858807Z",
     "start_time": "2024-02-07T10:13:20.847545300Z"
    }
   },
   "execution_count": 3
  },
  {
   "cell_type": "code",
   "outputs": [
    {
     "data": {
      "text/plain": "          0         1         2         3         4\n0 -1.101331 -0.452640  0.048964 -1.458178 -0.665858\n1 -0.558655  0.948680  0.723480  0.952514  1.217124\n2  0.185061 -0.296735 -0.849174  2.049180 -0.434114\n3  0.102386 -0.505444  0.105189 -0.334213 -1.119018\n4 -0.211519 -0.341325  0.872029 -0.773287 -0.085288\n5  0.196950 -1.485629  0.109148  0.207009 -2.210893\n6 -1.604664 -0.430913 -0.182682  0.280527 -0.200189\n7 -0.203989  0.763539 -0.056212  0.239229 -0.509901\n8 -0.722799 -1.530089 -1.463881  0.039812  1.735517\n9  1.060562  1.384640 -0.926524 -1.220243 -0.011871",
      "text/html": "<div>\n<style scoped>\n    .dataframe tbody tr th:only-of-type {\n        vertical-align: middle;\n    }\n\n    .dataframe tbody tr th {\n        vertical-align: top;\n    }\n\n    .dataframe thead th {\n        text-align: right;\n    }\n</style>\n<table border=\"1\" class=\"dataframe\">\n  <thead>\n    <tr style=\"text-align: right;\">\n      <th></th>\n      <th>0</th>\n      <th>1</th>\n      <th>2</th>\n      <th>3</th>\n      <th>4</th>\n    </tr>\n  </thead>\n  <tbody>\n    <tr>\n      <th>0</th>\n      <td>-1.101331</td>\n      <td>-0.452640</td>\n      <td>0.048964</td>\n      <td>-1.458178</td>\n      <td>-0.665858</td>\n    </tr>\n    <tr>\n      <th>1</th>\n      <td>-0.558655</td>\n      <td>0.948680</td>\n      <td>0.723480</td>\n      <td>0.952514</td>\n      <td>1.217124</td>\n    </tr>\n    <tr>\n      <th>2</th>\n      <td>0.185061</td>\n      <td>-0.296735</td>\n      <td>-0.849174</td>\n      <td>2.049180</td>\n      <td>-0.434114</td>\n    </tr>\n    <tr>\n      <th>3</th>\n      <td>0.102386</td>\n      <td>-0.505444</td>\n      <td>0.105189</td>\n      <td>-0.334213</td>\n      <td>-1.119018</td>\n    </tr>\n    <tr>\n      <th>4</th>\n      <td>-0.211519</td>\n      <td>-0.341325</td>\n      <td>0.872029</td>\n      <td>-0.773287</td>\n      <td>-0.085288</td>\n    </tr>\n    <tr>\n      <th>5</th>\n      <td>0.196950</td>\n      <td>-1.485629</td>\n      <td>0.109148</td>\n      <td>0.207009</td>\n      <td>-2.210893</td>\n    </tr>\n    <tr>\n      <th>6</th>\n      <td>-1.604664</td>\n      <td>-0.430913</td>\n      <td>-0.182682</td>\n      <td>0.280527</td>\n      <td>-0.200189</td>\n    </tr>\n    <tr>\n      <th>7</th>\n      <td>-0.203989</td>\n      <td>0.763539</td>\n      <td>-0.056212</td>\n      <td>0.239229</td>\n      <td>-0.509901</td>\n    </tr>\n    <tr>\n      <th>8</th>\n      <td>-0.722799</td>\n      <td>-1.530089</td>\n      <td>-1.463881</td>\n      <td>0.039812</td>\n      <td>1.735517</td>\n    </tr>\n    <tr>\n      <th>9</th>\n      <td>1.060562</td>\n      <td>1.384640</td>\n      <td>-0.926524</td>\n      <td>-1.220243</td>\n      <td>-0.011871</td>\n    </tr>\n  </tbody>\n</table>\n</div>"
     },
     "execution_count": 4,
     "metadata": {},
     "output_type": "execute_result"
    }
   ],
   "source": [
    "import pandas as pd\n",
    "\n",
    "pd.DataFrame(stock_change)"
   ],
   "metadata": {
    "collapsed": false,
    "ExecuteTime": {
     "end_time": "2024-02-07T10:13:21.370179700Z",
     "start_time": "2024-02-07T10:13:20.851011600Z"
    }
   },
   "execution_count": 4
  },
  {
   "cell_type": "code",
   "outputs": [],
   "source": [
    "# 添加行索引\n",
    "stock_row = [\"股票{}\".format(i) for i in range(1, 11)]\n",
    "stock_change_df =  pd.DataFrame(stock_change, index=stock_row)"
   ],
   "metadata": {
    "collapsed": false,
    "ExecuteTime": {
     "end_time": "2024-02-07T10:13:21.380101400Z",
     "start_time": "2024-02-07T10:13:21.371684400Z"
    }
   },
   "execution_count": 5
  },
  {
   "cell_type": "code",
   "outputs": [
    {
     "data": {
      "text/plain": "             0         1         2         3         4\n股票1  -1.101331 -0.452640  0.048964 -1.458178 -0.665858\n股票2  -0.558655  0.948680  0.723480  0.952514  1.217124\n股票3   0.185061 -0.296735 -0.849174  2.049180 -0.434114\n股票4   0.102386 -0.505444  0.105189 -0.334213 -1.119018\n股票5  -0.211519 -0.341325  0.872029 -0.773287 -0.085288\n股票6   0.196950 -1.485629  0.109148  0.207009 -2.210893\n股票7  -1.604664 -0.430913 -0.182682  0.280527 -0.200189\n股票8  -0.203989  0.763539 -0.056212  0.239229 -0.509901\n股票9  -0.722799 -1.530089 -1.463881  0.039812  1.735517\n股票10  1.060562  1.384640 -0.926524 -1.220243 -0.011871",
      "text/html": "<div>\n<style scoped>\n    .dataframe tbody tr th:only-of-type {\n        vertical-align: middle;\n    }\n\n    .dataframe tbody tr th {\n        vertical-align: top;\n    }\n\n    .dataframe thead th {\n        text-align: right;\n    }\n</style>\n<table border=\"1\" class=\"dataframe\">\n  <thead>\n    <tr style=\"text-align: right;\">\n      <th></th>\n      <th>0</th>\n      <th>1</th>\n      <th>2</th>\n      <th>3</th>\n      <th>4</th>\n    </tr>\n  </thead>\n  <tbody>\n    <tr>\n      <th>股票1</th>\n      <td>-1.101331</td>\n      <td>-0.452640</td>\n      <td>0.048964</td>\n      <td>-1.458178</td>\n      <td>-0.665858</td>\n    </tr>\n    <tr>\n      <th>股票2</th>\n      <td>-0.558655</td>\n      <td>0.948680</td>\n      <td>0.723480</td>\n      <td>0.952514</td>\n      <td>1.217124</td>\n    </tr>\n    <tr>\n      <th>股票3</th>\n      <td>0.185061</td>\n      <td>-0.296735</td>\n      <td>-0.849174</td>\n      <td>2.049180</td>\n      <td>-0.434114</td>\n    </tr>\n    <tr>\n      <th>股票4</th>\n      <td>0.102386</td>\n      <td>-0.505444</td>\n      <td>0.105189</td>\n      <td>-0.334213</td>\n      <td>-1.119018</td>\n    </tr>\n    <tr>\n      <th>股票5</th>\n      <td>-0.211519</td>\n      <td>-0.341325</td>\n      <td>0.872029</td>\n      <td>-0.773287</td>\n      <td>-0.085288</td>\n    </tr>\n    <tr>\n      <th>股票6</th>\n      <td>0.196950</td>\n      <td>-1.485629</td>\n      <td>0.109148</td>\n      <td>0.207009</td>\n      <td>-2.210893</td>\n    </tr>\n    <tr>\n      <th>股票7</th>\n      <td>-1.604664</td>\n      <td>-0.430913</td>\n      <td>-0.182682</td>\n      <td>0.280527</td>\n      <td>-0.200189</td>\n    </tr>\n    <tr>\n      <th>股票8</th>\n      <td>-0.203989</td>\n      <td>0.763539</td>\n      <td>-0.056212</td>\n      <td>0.239229</td>\n      <td>-0.509901</td>\n    </tr>\n    <tr>\n      <th>股票9</th>\n      <td>-0.722799</td>\n      <td>-1.530089</td>\n      <td>-1.463881</td>\n      <td>0.039812</td>\n      <td>1.735517</td>\n    </tr>\n    <tr>\n      <th>股票10</th>\n      <td>1.060562</td>\n      <td>1.384640</td>\n      <td>-0.926524</td>\n      <td>-1.220243</td>\n      <td>-0.011871</td>\n    </tr>\n  </tbody>\n</table>\n</div>"
     },
     "execution_count": 6,
     "metadata": {},
     "output_type": "execute_result"
    }
   ],
   "source": [
    "stock_change_df"
   ],
   "metadata": {
    "collapsed": false,
    "ExecuteTime": {
     "end_time": "2024-02-07T10:13:21.381191800Z",
     "start_time": "2024-02-07T10:13:21.374564Z"
    }
   },
   "execution_count": 6
  },
  {
   "cell_type": "code",
   "outputs": [
    {
     "data": {
      "text/plain": "      2024-01-01  2024-01-02  2024-01-03  2024-01-04  2024-01-05\n股票1    -1.101331   -0.452640    0.048964   -1.458178   -0.665858\n股票2    -0.558655    0.948680    0.723480    0.952514    1.217124\n股票3     0.185061   -0.296735   -0.849174    2.049180   -0.434114\n股票4     0.102386   -0.505444    0.105189   -0.334213   -1.119018\n股票5    -0.211519   -0.341325    0.872029   -0.773287   -0.085288\n股票6     0.196950   -1.485629    0.109148    0.207009   -2.210893\n股票7    -1.604664   -0.430913   -0.182682    0.280527   -0.200189\n股票8    -0.203989    0.763539   -0.056212    0.239229   -0.509901\n股票9    -0.722799   -1.530089   -1.463881    0.039812    1.735517\n股票10    1.060562    1.384640   -0.926524   -1.220243   -0.011871",
      "text/html": "<div>\n<style scoped>\n    .dataframe tbody tr th:only-of-type {\n        vertical-align: middle;\n    }\n\n    .dataframe tbody tr th {\n        vertical-align: top;\n    }\n\n    .dataframe thead th {\n        text-align: right;\n    }\n</style>\n<table border=\"1\" class=\"dataframe\">\n  <thead>\n    <tr style=\"text-align: right;\">\n      <th></th>\n      <th>2024-01-01</th>\n      <th>2024-01-02</th>\n      <th>2024-01-03</th>\n      <th>2024-01-04</th>\n      <th>2024-01-05</th>\n    </tr>\n  </thead>\n  <tbody>\n    <tr>\n      <th>股票1</th>\n      <td>-1.101331</td>\n      <td>-0.452640</td>\n      <td>0.048964</td>\n      <td>-1.458178</td>\n      <td>-0.665858</td>\n    </tr>\n    <tr>\n      <th>股票2</th>\n      <td>-0.558655</td>\n      <td>0.948680</td>\n      <td>0.723480</td>\n      <td>0.952514</td>\n      <td>1.217124</td>\n    </tr>\n    <tr>\n      <th>股票3</th>\n      <td>0.185061</td>\n      <td>-0.296735</td>\n      <td>-0.849174</td>\n      <td>2.049180</td>\n      <td>-0.434114</td>\n    </tr>\n    <tr>\n      <th>股票4</th>\n      <td>0.102386</td>\n      <td>-0.505444</td>\n      <td>0.105189</td>\n      <td>-0.334213</td>\n      <td>-1.119018</td>\n    </tr>\n    <tr>\n      <th>股票5</th>\n      <td>-0.211519</td>\n      <td>-0.341325</td>\n      <td>0.872029</td>\n      <td>-0.773287</td>\n      <td>-0.085288</td>\n    </tr>\n    <tr>\n      <th>股票6</th>\n      <td>0.196950</td>\n      <td>-1.485629</td>\n      <td>0.109148</td>\n      <td>0.207009</td>\n      <td>-2.210893</td>\n    </tr>\n    <tr>\n      <th>股票7</th>\n      <td>-1.604664</td>\n      <td>-0.430913</td>\n      <td>-0.182682</td>\n      <td>0.280527</td>\n      <td>-0.200189</td>\n    </tr>\n    <tr>\n      <th>股票8</th>\n      <td>-0.203989</td>\n      <td>0.763539</td>\n      <td>-0.056212</td>\n      <td>0.239229</td>\n      <td>-0.509901</td>\n    </tr>\n    <tr>\n      <th>股票9</th>\n      <td>-0.722799</td>\n      <td>-1.530089</td>\n      <td>-1.463881</td>\n      <td>0.039812</td>\n      <td>1.735517</td>\n    </tr>\n    <tr>\n      <th>股票10</th>\n      <td>1.060562</td>\n      <td>1.384640</td>\n      <td>-0.926524</td>\n      <td>-1.220243</td>\n      <td>-0.011871</td>\n    </tr>\n  </tbody>\n</table>\n</div>"
     },
     "execution_count": 7,
     "metadata": {},
     "output_type": "execute_result"
    }
   ],
   "source": [
    "# 添加列索引\n",
    "date = pd.date_range(\"20240101\", periods=5, freq=\"B\")\n",
    "data =  pd.DataFrame(stock_change, index=stock_row, columns=date)\n",
    "data"
   ],
   "metadata": {
    "collapsed": false,
    "ExecuteTime": {
     "end_time": "2024-02-07T10:13:21.427112Z",
     "start_time": "2024-02-07T10:13:21.380101400Z"
    }
   },
   "execution_count": 7
  },
  {
   "cell_type": "markdown",
   "source": [
    "### DataFrame的属性\n",
    "-   index\n",
    "-   columns\n",
    "-   values\n",
    "-   shape\n",
    "-   size\n",
    "-   dtypes\n",
    "-   ndim\n",
    "-   T"
   ],
   "metadata": {
    "collapsed": false
   }
  },
  {
   "cell_type": "code",
   "outputs": [
    {
     "data": {
      "text/plain": "(10, 5)"
     },
     "execution_count": 8,
     "metadata": {},
     "output_type": "execute_result"
    }
   ],
   "source": [
    "data.shape"
   ],
   "metadata": {
    "collapsed": false,
    "ExecuteTime": {
     "end_time": "2024-02-07T10:13:21.428144700Z",
     "start_time": "2024-02-07T10:13:21.391504600Z"
    }
   },
   "execution_count": 8
  },
  {
   "cell_type": "code",
   "outputs": [
    {
     "data": {
      "text/plain": "Index(['股票1', '股票2', '股票3', '股票4', '股票5', '股票6', '股票7', '股票8', '股票9', '股票10'], dtype='object')"
     },
     "execution_count": 9,
     "metadata": {},
     "output_type": "execute_result"
    }
   ],
   "source": [
    "data.index"
   ],
   "metadata": {
    "collapsed": false,
    "ExecuteTime": {
     "end_time": "2024-02-07T10:13:21.429702700Z",
     "start_time": "2024-02-07T10:13:21.394061500Z"
    }
   },
   "execution_count": 9
  },
  {
   "cell_type": "code",
   "outputs": [
    {
     "data": {
      "text/plain": "DatetimeIndex(['2024-01-01', '2024-01-02', '2024-01-03', '2024-01-04',\n               '2024-01-05'],\n              dtype='datetime64[ns]', freq='B')"
     },
     "execution_count": 10,
     "metadata": {},
     "output_type": "execute_result"
    }
   ],
   "source": [
    "data.columns"
   ],
   "metadata": {
    "collapsed": false,
    "ExecuteTime": {
     "end_time": "2024-02-07T10:13:21.452343700Z",
     "start_time": "2024-02-07T10:13:21.397314300Z"
    }
   },
   "execution_count": 10
  },
  {
   "cell_type": "code",
   "outputs": [
    {
     "data": {
      "text/plain": "array([[-1.10133108, -0.45264045,  0.04896366, -1.45817809, -0.66585844],\n       [-0.55865509,  0.94867983,  0.72347952,  0.95251442,  1.21712382],\n       [ 0.18506051, -0.29673547, -0.84917406,  2.0491795 , -0.43411394],\n       [ 0.1023863 , -0.50544421,  0.10518903, -0.33421259, -1.11901822],\n       [-0.21151869, -0.34132537,  0.87202935, -0.77328705, -0.08528794],\n       [ 0.19695036, -1.48562947,  0.10914836,  0.2070094 , -2.21089279],\n       [-1.60466388, -0.43091273, -0.18268187,  0.28052723, -0.20018938],\n       [-0.20398917,  0.76353885, -0.05621198,  0.23922946, -0.50990146],\n       [-0.72279933, -1.53008923, -1.46388131,  0.03981203,  1.7355171 ],\n       [ 1.06056249,  1.38464048, -0.92652397, -1.22024321, -0.01187094]])"
     },
     "execution_count": 11,
     "metadata": {},
     "output_type": "execute_result"
    }
   ],
   "source": [
    "data.values"
   ],
   "metadata": {
    "collapsed": false,
    "ExecuteTime": {
     "end_time": "2024-02-07T10:13:21.452934300Z",
     "start_time": "2024-02-07T10:13:21.402804300Z"
    }
   },
   "execution_count": 11
  },
  {
   "cell_type": "code",
   "outputs": [
    {
     "data": {
      "text/plain": "                 股票1       股票2       股票3       股票4       股票5       股票6  \\\n2024-01-01 -1.101331 -0.558655  0.185061  0.102386 -0.211519  0.196950   \n2024-01-02 -0.452640  0.948680 -0.296735 -0.505444 -0.341325 -1.485629   \n2024-01-03  0.048964  0.723480 -0.849174  0.105189  0.872029  0.109148   \n2024-01-04 -1.458178  0.952514  2.049180 -0.334213 -0.773287  0.207009   \n2024-01-05 -0.665858  1.217124 -0.434114 -1.119018 -0.085288 -2.210893   \n\n                 股票7       股票8       股票9      股票10  \n2024-01-01 -1.604664 -0.203989 -0.722799  1.060562  \n2024-01-02 -0.430913  0.763539 -1.530089  1.384640  \n2024-01-03 -0.182682 -0.056212 -1.463881 -0.926524  \n2024-01-04  0.280527  0.239229  0.039812 -1.220243  \n2024-01-05 -0.200189 -0.509901  1.735517 -0.011871  ",
      "text/html": "<div>\n<style scoped>\n    .dataframe tbody tr th:only-of-type {\n        vertical-align: middle;\n    }\n\n    .dataframe tbody tr th {\n        vertical-align: top;\n    }\n\n    .dataframe thead th {\n        text-align: right;\n    }\n</style>\n<table border=\"1\" class=\"dataframe\">\n  <thead>\n    <tr style=\"text-align: right;\">\n      <th></th>\n      <th>股票1</th>\n      <th>股票2</th>\n      <th>股票3</th>\n      <th>股票4</th>\n      <th>股票5</th>\n      <th>股票6</th>\n      <th>股票7</th>\n      <th>股票8</th>\n      <th>股票9</th>\n      <th>股票10</th>\n    </tr>\n  </thead>\n  <tbody>\n    <tr>\n      <th>2024-01-01</th>\n      <td>-1.101331</td>\n      <td>-0.558655</td>\n      <td>0.185061</td>\n      <td>0.102386</td>\n      <td>-0.211519</td>\n      <td>0.196950</td>\n      <td>-1.604664</td>\n      <td>-0.203989</td>\n      <td>-0.722799</td>\n      <td>1.060562</td>\n    </tr>\n    <tr>\n      <th>2024-01-02</th>\n      <td>-0.452640</td>\n      <td>0.948680</td>\n      <td>-0.296735</td>\n      <td>-0.505444</td>\n      <td>-0.341325</td>\n      <td>-1.485629</td>\n      <td>-0.430913</td>\n      <td>0.763539</td>\n      <td>-1.530089</td>\n      <td>1.384640</td>\n    </tr>\n    <tr>\n      <th>2024-01-03</th>\n      <td>0.048964</td>\n      <td>0.723480</td>\n      <td>-0.849174</td>\n      <td>0.105189</td>\n      <td>0.872029</td>\n      <td>0.109148</td>\n      <td>-0.182682</td>\n      <td>-0.056212</td>\n      <td>-1.463881</td>\n      <td>-0.926524</td>\n    </tr>\n    <tr>\n      <th>2024-01-04</th>\n      <td>-1.458178</td>\n      <td>0.952514</td>\n      <td>2.049180</td>\n      <td>-0.334213</td>\n      <td>-0.773287</td>\n      <td>0.207009</td>\n      <td>0.280527</td>\n      <td>0.239229</td>\n      <td>0.039812</td>\n      <td>-1.220243</td>\n    </tr>\n    <tr>\n      <th>2024-01-05</th>\n      <td>-0.665858</td>\n      <td>1.217124</td>\n      <td>-0.434114</td>\n      <td>-1.119018</td>\n      <td>-0.085288</td>\n      <td>-2.210893</td>\n      <td>-0.200189</td>\n      <td>-0.509901</td>\n      <td>1.735517</td>\n      <td>-0.011871</td>\n    </tr>\n  </tbody>\n</table>\n</div>"
     },
     "execution_count": 12,
     "metadata": {},
     "output_type": "execute_result"
    }
   ],
   "source": [
    "data.T"
   ],
   "metadata": {
    "collapsed": false,
    "ExecuteTime": {
     "end_time": "2024-02-07T10:13:21.514125100Z",
     "start_time": "2024-02-07T10:13:21.405454300Z"
    }
   },
   "execution_count": 12
  },
  {
   "cell_type": "code",
   "outputs": [
    {
     "data": {
      "text/plain": "     2024-01-01  2024-01-02  2024-01-03  2024-01-04  2024-01-05\n股票1   -1.101331   -0.452640    0.048964   -1.458178   -0.665858\n股票2   -0.558655    0.948680    0.723480    0.952514    1.217124\n股票3    0.185061   -0.296735   -0.849174    2.049180   -0.434114\n股票4    0.102386   -0.505444    0.105189   -0.334213   -1.119018\n股票5   -0.211519   -0.341325    0.872029   -0.773287   -0.085288",
      "text/html": "<div>\n<style scoped>\n    .dataframe tbody tr th:only-of-type {\n        vertical-align: middle;\n    }\n\n    .dataframe tbody tr th {\n        vertical-align: top;\n    }\n\n    .dataframe thead th {\n        text-align: right;\n    }\n</style>\n<table border=\"1\" class=\"dataframe\">\n  <thead>\n    <tr style=\"text-align: right;\">\n      <th></th>\n      <th>2024-01-01</th>\n      <th>2024-01-02</th>\n      <th>2024-01-03</th>\n      <th>2024-01-04</th>\n      <th>2024-01-05</th>\n    </tr>\n  </thead>\n  <tbody>\n    <tr>\n      <th>股票1</th>\n      <td>-1.101331</td>\n      <td>-0.452640</td>\n      <td>0.048964</td>\n      <td>-1.458178</td>\n      <td>-0.665858</td>\n    </tr>\n    <tr>\n      <th>股票2</th>\n      <td>-0.558655</td>\n      <td>0.948680</td>\n      <td>0.723480</td>\n      <td>0.952514</td>\n      <td>1.217124</td>\n    </tr>\n    <tr>\n      <th>股票3</th>\n      <td>0.185061</td>\n      <td>-0.296735</td>\n      <td>-0.849174</td>\n      <td>2.049180</td>\n      <td>-0.434114</td>\n    </tr>\n    <tr>\n      <th>股票4</th>\n      <td>0.102386</td>\n      <td>-0.505444</td>\n      <td>0.105189</td>\n      <td>-0.334213</td>\n      <td>-1.119018</td>\n    </tr>\n    <tr>\n      <th>股票5</th>\n      <td>-0.211519</td>\n      <td>-0.341325</td>\n      <td>0.872029</td>\n      <td>-0.773287</td>\n      <td>-0.085288</td>\n    </tr>\n  </tbody>\n</table>\n</div>"
     },
     "execution_count": 13,
     "metadata": {},
     "output_type": "execute_result"
    }
   ],
   "source": [
    "data.head()"
   ],
   "metadata": {
    "collapsed": false,
    "ExecuteTime": {
     "end_time": "2024-02-07T10:13:21.515133200Z",
     "start_time": "2024-02-07T10:13:21.413608700Z"
    }
   },
   "execution_count": 13
  },
  {
   "cell_type": "code",
   "outputs": [
    {
     "data": {
      "text/plain": "      2024-01-01  2024-01-02  2024-01-03  2024-01-04  2024-01-05\n股票6     0.196950   -1.485629    0.109148    0.207009   -2.210893\n股票7    -1.604664   -0.430913   -0.182682    0.280527   -0.200189\n股票8    -0.203989    0.763539   -0.056212    0.239229   -0.509901\n股票9    -0.722799   -1.530089   -1.463881    0.039812    1.735517\n股票10    1.060562    1.384640   -0.926524   -1.220243   -0.011871",
      "text/html": "<div>\n<style scoped>\n    .dataframe tbody tr th:only-of-type {\n        vertical-align: middle;\n    }\n\n    .dataframe tbody tr th {\n        vertical-align: top;\n    }\n\n    .dataframe thead th {\n        text-align: right;\n    }\n</style>\n<table border=\"1\" class=\"dataframe\">\n  <thead>\n    <tr style=\"text-align: right;\">\n      <th></th>\n      <th>2024-01-01</th>\n      <th>2024-01-02</th>\n      <th>2024-01-03</th>\n      <th>2024-01-04</th>\n      <th>2024-01-05</th>\n    </tr>\n  </thead>\n  <tbody>\n    <tr>\n      <th>股票6</th>\n      <td>0.196950</td>\n      <td>-1.485629</td>\n      <td>0.109148</td>\n      <td>0.207009</td>\n      <td>-2.210893</td>\n    </tr>\n    <tr>\n      <th>股票7</th>\n      <td>-1.604664</td>\n      <td>-0.430913</td>\n      <td>-0.182682</td>\n      <td>0.280527</td>\n      <td>-0.200189</td>\n    </tr>\n    <tr>\n      <th>股票8</th>\n      <td>-0.203989</td>\n      <td>0.763539</td>\n      <td>-0.056212</td>\n      <td>0.239229</td>\n      <td>-0.509901</td>\n    </tr>\n    <tr>\n      <th>股票9</th>\n      <td>-0.722799</td>\n      <td>-1.530089</td>\n      <td>-1.463881</td>\n      <td>0.039812</td>\n      <td>1.735517</td>\n    </tr>\n    <tr>\n      <th>股票10</th>\n      <td>1.060562</td>\n      <td>1.384640</td>\n      <td>-0.926524</td>\n      <td>-1.220243</td>\n      <td>-0.011871</td>\n    </tr>\n  </tbody>\n</table>\n</div>"
     },
     "execution_count": 14,
     "metadata": {},
     "output_type": "execute_result"
    }
   ],
   "source": [
    "data.tail()"
   ],
   "metadata": {
    "collapsed": false,
    "ExecuteTime": {
     "end_time": "2024-02-07T10:13:21.577816500Z",
     "start_time": "2024-02-07T10:13:21.418772100Z"
    }
   },
   "execution_count": 14
  },
  {
   "cell_type": "code",
   "outputs": [
    {
     "data": {
      "text/plain": "       2024-01-01  2024-01-02  2024-01-03  2024-01-04  2024-01-05\n股票_1    -1.101331   -0.452640    0.048964   -1.458178   -0.665858\n股票_2    -0.558655    0.948680    0.723480    0.952514    1.217124\n股票_3     0.185061   -0.296735   -0.849174    2.049180   -0.434114\n股票_4     0.102386   -0.505444    0.105189   -0.334213   -1.119018\n股票_5    -0.211519   -0.341325    0.872029   -0.773287   -0.085288\n股票_6     0.196950   -1.485629    0.109148    0.207009   -2.210893\n股票_7    -1.604664   -0.430913   -0.182682    0.280527   -0.200189\n股票_8    -0.203989    0.763539   -0.056212    0.239229   -0.509901\n股票_9    -0.722799   -1.530089   -1.463881    0.039812    1.735517\n股票_10    1.060562    1.384640   -0.926524   -1.220243   -0.011871",
      "text/html": "<div>\n<style scoped>\n    .dataframe tbody tr th:only-of-type {\n        vertical-align: middle;\n    }\n\n    .dataframe tbody tr th {\n        vertical-align: top;\n    }\n\n    .dataframe thead th {\n        text-align: right;\n    }\n</style>\n<table border=\"1\" class=\"dataframe\">\n  <thead>\n    <tr style=\"text-align: right;\">\n      <th></th>\n      <th>2024-01-01</th>\n      <th>2024-01-02</th>\n      <th>2024-01-03</th>\n      <th>2024-01-04</th>\n      <th>2024-01-05</th>\n    </tr>\n  </thead>\n  <tbody>\n    <tr>\n      <th>股票_1</th>\n      <td>-1.101331</td>\n      <td>-0.452640</td>\n      <td>0.048964</td>\n      <td>-1.458178</td>\n      <td>-0.665858</td>\n    </tr>\n    <tr>\n      <th>股票_2</th>\n      <td>-0.558655</td>\n      <td>0.948680</td>\n      <td>0.723480</td>\n      <td>0.952514</td>\n      <td>1.217124</td>\n    </tr>\n    <tr>\n      <th>股票_3</th>\n      <td>0.185061</td>\n      <td>-0.296735</td>\n      <td>-0.849174</td>\n      <td>2.049180</td>\n      <td>-0.434114</td>\n    </tr>\n    <tr>\n      <th>股票_4</th>\n      <td>0.102386</td>\n      <td>-0.505444</td>\n      <td>0.105189</td>\n      <td>-0.334213</td>\n      <td>-1.119018</td>\n    </tr>\n    <tr>\n      <th>股票_5</th>\n      <td>-0.211519</td>\n      <td>-0.341325</td>\n      <td>0.872029</td>\n      <td>-0.773287</td>\n      <td>-0.085288</td>\n    </tr>\n    <tr>\n      <th>股票_6</th>\n      <td>0.196950</td>\n      <td>-1.485629</td>\n      <td>0.109148</td>\n      <td>0.207009</td>\n      <td>-2.210893</td>\n    </tr>\n    <tr>\n      <th>股票_7</th>\n      <td>-1.604664</td>\n      <td>-0.430913</td>\n      <td>-0.182682</td>\n      <td>0.280527</td>\n      <td>-0.200189</td>\n    </tr>\n    <tr>\n      <th>股票_8</th>\n      <td>-0.203989</td>\n      <td>0.763539</td>\n      <td>-0.056212</td>\n      <td>0.239229</td>\n      <td>-0.509901</td>\n    </tr>\n    <tr>\n      <th>股票_9</th>\n      <td>-0.722799</td>\n      <td>-1.530089</td>\n      <td>-1.463881</td>\n      <td>0.039812</td>\n      <td>1.735517</td>\n    </tr>\n    <tr>\n      <th>股票_10</th>\n      <td>1.060562</td>\n      <td>1.384640</td>\n      <td>-0.926524</td>\n      <td>-1.220243</td>\n      <td>-0.011871</td>\n    </tr>\n  </tbody>\n</table>\n</div>"
     },
     "execution_count": 15,
     "metadata": {},
     "output_type": "execute_result"
    }
   ],
   "source": [
    "# data.index[2] = \"股票88\" 不能单独修改索引\n",
    "\n",
    "# 修改需要重新构造一组索引\n",
    "stock_ = [\"股票_{}\".format(i) for i in range(1, 11)]\n",
    "data.index = stock_\n",
    "data"
   ],
   "metadata": {
    "collapsed": false,
    "ExecuteTime": {
     "end_time": "2024-02-07T10:13:21.581000500Z",
     "start_time": "2024-02-07T10:13:21.426025900Z"
    }
   },
   "execution_count": 15
  },
  {
   "cell_type": "code",
   "outputs": [
    {
     "data": {
      "text/plain": "   index  2024-01-01 00:00:00  2024-01-02 00:00:00  2024-01-03 00:00:00  \\\n0   股票_1            -1.101331            -0.452640             0.048964   \n1   股票_2            -0.558655             0.948680             0.723480   \n2   股票_3             0.185061            -0.296735            -0.849174   \n3   股票_4             0.102386            -0.505444             0.105189   \n4   股票_5            -0.211519            -0.341325             0.872029   \n5   股票_6             0.196950            -1.485629             0.109148   \n6   股票_7            -1.604664            -0.430913            -0.182682   \n7   股票_8            -0.203989             0.763539            -0.056212   \n8   股票_9            -0.722799            -1.530089            -1.463881   \n9  股票_10             1.060562             1.384640            -0.926524   \n\n   2024-01-04 00:00:00  2024-01-05 00:00:00  \n0            -1.458178            -0.665858  \n1             0.952514             1.217124  \n2             2.049180            -0.434114  \n3            -0.334213            -1.119018  \n4            -0.773287            -0.085288  \n5             0.207009            -2.210893  \n6             0.280527            -0.200189  \n7             0.239229            -0.509901  \n8             0.039812             1.735517  \n9            -1.220243            -0.011871  ",
      "text/html": "<div>\n<style scoped>\n    .dataframe tbody tr th:only-of-type {\n        vertical-align: middle;\n    }\n\n    .dataframe tbody tr th {\n        vertical-align: top;\n    }\n\n    .dataframe thead th {\n        text-align: right;\n    }\n</style>\n<table border=\"1\" class=\"dataframe\">\n  <thead>\n    <tr style=\"text-align: right;\">\n      <th></th>\n      <th>index</th>\n      <th>2024-01-01 00:00:00</th>\n      <th>2024-01-02 00:00:00</th>\n      <th>2024-01-03 00:00:00</th>\n      <th>2024-01-04 00:00:00</th>\n      <th>2024-01-05 00:00:00</th>\n    </tr>\n  </thead>\n  <tbody>\n    <tr>\n      <th>0</th>\n      <td>股票_1</td>\n      <td>-1.101331</td>\n      <td>-0.452640</td>\n      <td>0.048964</td>\n      <td>-1.458178</td>\n      <td>-0.665858</td>\n    </tr>\n    <tr>\n      <th>1</th>\n      <td>股票_2</td>\n      <td>-0.558655</td>\n      <td>0.948680</td>\n      <td>0.723480</td>\n      <td>0.952514</td>\n      <td>1.217124</td>\n    </tr>\n    <tr>\n      <th>2</th>\n      <td>股票_3</td>\n      <td>0.185061</td>\n      <td>-0.296735</td>\n      <td>-0.849174</td>\n      <td>2.049180</td>\n      <td>-0.434114</td>\n    </tr>\n    <tr>\n      <th>3</th>\n      <td>股票_4</td>\n      <td>0.102386</td>\n      <td>-0.505444</td>\n      <td>0.105189</td>\n      <td>-0.334213</td>\n      <td>-1.119018</td>\n    </tr>\n    <tr>\n      <th>4</th>\n      <td>股票_5</td>\n      <td>-0.211519</td>\n      <td>-0.341325</td>\n      <td>0.872029</td>\n      <td>-0.773287</td>\n      <td>-0.085288</td>\n    </tr>\n    <tr>\n      <th>5</th>\n      <td>股票_6</td>\n      <td>0.196950</td>\n      <td>-1.485629</td>\n      <td>0.109148</td>\n      <td>0.207009</td>\n      <td>-2.210893</td>\n    </tr>\n    <tr>\n      <th>6</th>\n      <td>股票_7</td>\n      <td>-1.604664</td>\n      <td>-0.430913</td>\n      <td>-0.182682</td>\n      <td>0.280527</td>\n      <td>-0.200189</td>\n    </tr>\n    <tr>\n      <th>7</th>\n      <td>股票_8</td>\n      <td>-0.203989</td>\n      <td>0.763539</td>\n      <td>-0.056212</td>\n      <td>0.239229</td>\n      <td>-0.509901</td>\n    </tr>\n    <tr>\n      <th>8</th>\n      <td>股票_9</td>\n      <td>-0.722799</td>\n      <td>-1.530089</td>\n      <td>-1.463881</td>\n      <td>0.039812</td>\n      <td>1.735517</td>\n    </tr>\n    <tr>\n      <th>9</th>\n      <td>股票_10</td>\n      <td>1.060562</td>\n      <td>1.384640</td>\n      <td>-0.926524</td>\n      <td>-1.220243</td>\n      <td>-0.011871</td>\n    </tr>\n  </tbody>\n</table>\n</div>"
     },
     "execution_count": 16,
     "metadata": {},
     "output_type": "execute_result"
    }
   ],
   "source": [
    "# 重设索引\n",
    "data.reset_index(drop=False) # drop=True把之前的索引删除"
   ],
   "metadata": {
    "collapsed": false,
    "ExecuteTime": {
     "end_time": "2024-02-07T10:13:21.600461Z",
     "start_time": "2024-02-07T10:13:21.431230200Z"
    }
   },
   "execution_count": 16
  },
  {
   "cell_type": "code",
   "outputs": [
    {
     "data": {
      "text/plain": "   month  year  sale\n0      1  2012    55\n1      4  2014    40\n2      7  2013    84\n3     10  2014    31",
      "text/html": "<div>\n<style scoped>\n    .dataframe tbody tr th:only-of-type {\n        vertical-align: middle;\n    }\n\n    .dataframe tbody tr th {\n        vertical-align: top;\n    }\n\n    .dataframe thead th {\n        text-align: right;\n    }\n</style>\n<table border=\"1\" class=\"dataframe\">\n  <thead>\n    <tr style=\"text-align: right;\">\n      <th></th>\n      <th>month</th>\n      <th>year</th>\n      <th>sale</th>\n    </tr>\n  </thead>\n  <tbody>\n    <tr>\n      <th>0</th>\n      <td>1</td>\n      <td>2012</td>\n      <td>55</td>\n    </tr>\n    <tr>\n      <th>1</th>\n      <td>4</td>\n      <td>2014</td>\n      <td>40</td>\n    </tr>\n    <tr>\n      <th>2</th>\n      <td>7</td>\n      <td>2013</td>\n      <td>84</td>\n    </tr>\n    <tr>\n      <th>3</th>\n      <td>10</td>\n      <td>2014</td>\n      <td>31</td>\n    </tr>\n  </tbody>\n</table>\n</div>"
     },
     "execution_count": 17,
     "metadata": {},
     "output_type": "execute_result"
    }
   ],
   "source": [
    "# 设置新索引\n",
    "df = pd.DataFrame({'month': [1, 4, 7, 10],\n",
    "                   'year': [2012, 2014, 2013, 2014],\n",
    "                   'sale':[55, 40, 84, 31]})\n",
    "df"
   ],
   "metadata": {
    "collapsed": false,
    "ExecuteTime": {
     "end_time": "2024-02-07T10:13:21.601509400Z",
     "start_time": "2024-02-07T10:13:21.438864600Z"
    }
   },
   "execution_count": 17
  },
  {
   "cell_type": "code",
   "outputs": [
    {
     "data": {
      "text/plain": "       year  sale\nmonth            \n1      2012    55\n4      2014    40\n7      2013    84\n10     2014    31",
      "text/html": "<div>\n<style scoped>\n    .dataframe tbody tr th:only-of-type {\n        vertical-align: middle;\n    }\n\n    .dataframe tbody tr th {\n        vertical-align: top;\n    }\n\n    .dataframe thead th {\n        text-align: right;\n    }\n</style>\n<table border=\"1\" class=\"dataframe\">\n  <thead>\n    <tr style=\"text-align: right;\">\n      <th></th>\n      <th>year</th>\n      <th>sale</th>\n    </tr>\n    <tr>\n      <th>month</th>\n      <th></th>\n      <th></th>\n    </tr>\n  </thead>\n  <tbody>\n    <tr>\n      <th>1</th>\n      <td>2012</td>\n      <td>55</td>\n    </tr>\n    <tr>\n      <th>4</th>\n      <td>2014</td>\n      <td>40</td>\n    </tr>\n    <tr>\n      <th>7</th>\n      <td>2013</td>\n      <td>84</td>\n    </tr>\n    <tr>\n      <th>10</th>\n      <td>2014</td>\n      <td>31</td>\n    </tr>\n  </tbody>\n</table>\n</div>"
     },
     "execution_count": 18,
     "metadata": {},
     "output_type": "execute_result"
    }
   ],
   "source": [
    "# 以月份设置新的索引\n",
    "df.set_index(\"month\", drop=True)"
   ],
   "metadata": {
    "collapsed": false,
    "ExecuteTime": {
     "end_time": "2024-02-07T10:13:21.624658600Z",
     "start_time": "2024-02-07T10:13:21.443379300Z"
    }
   },
   "execution_count": 18
  },
  {
   "cell_type": "code",
   "outputs": [
    {
     "data": {
      "text/plain": "            sale\nyear month      \n2012 1        55\n2014 4        40\n2013 7        84\n2014 10       31",
      "text/html": "<div>\n<style scoped>\n    .dataframe tbody tr th:only-of-type {\n        vertical-align: middle;\n    }\n\n    .dataframe tbody tr th {\n        vertical-align: top;\n    }\n\n    .dataframe thead th {\n        text-align: right;\n    }\n</style>\n<table border=\"1\" class=\"dataframe\">\n  <thead>\n    <tr style=\"text-align: right;\">\n      <th></th>\n      <th></th>\n      <th>sale</th>\n    </tr>\n    <tr>\n      <th>year</th>\n      <th>month</th>\n      <th></th>\n    </tr>\n  </thead>\n  <tbody>\n    <tr>\n      <th>2012</th>\n      <th>1</th>\n      <td>55</td>\n    </tr>\n    <tr>\n      <th>2014</th>\n      <th>4</th>\n      <td>40</td>\n    </tr>\n    <tr>\n      <th>2013</th>\n      <th>7</th>\n      <td>84</td>\n    </tr>\n    <tr>\n      <th>2014</th>\n      <th>10</th>\n      <td>31</td>\n    </tr>\n  </tbody>\n</table>\n</div>"
     },
     "execution_count": 19,
     "metadata": {},
     "output_type": "execute_result"
    }
   ],
   "source": [
    "# 设置多个索引，以年和月份\n",
    "new_df = df.set_index([\"year\", \"month\"])\n",
    "new_df"
   ],
   "metadata": {
    "collapsed": false,
    "ExecuteTime": {
     "end_time": "2024-02-07T10:13:21.625803500Z",
     "start_time": "2024-02-07T10:13:21.449380400Z"
    }
   },
   "execution_count": 19
  },
  {
   "cell_type": "code",
   "outputs": [
    {
     "data": {
      "text/plain": "MultiIndex([(2012,  1),\n            (2014,  4),\n            (2013,  7),\n            (2014, 10)],\n           names=['year', 'month'])"
     },
     "execution_count": 20,
     "metadata": {},
     "output_type": "execute_result"
    }
   ],
   "source": [
    "new_df.index"
   ],
   "metadata": {
    "collapsed": false,
    "ExecuteTime": {
     "end_time": "2024-02-07T10:13:21.627021900Z",
     "start_time": "2024-02-07T10:13:21.454966500Z"
    }
   },
   "execution_count": 20
  },
  {
   "cell_type": "markdown",
   "source": [
    "### MultiIndex\n",
    "多级或分层索引对象\n",
    "- index属性\n",
    "    - names:levels的名称\n",
    "    - levels:每个level的元组值"
   ],
   "metadata": {
    "collapsed": false
   }
  },
  {
   "cell_type": "code",
   "outputs": [
    {
     "data": {
      "text/plain": "FrozenList(['year', 'month'])"
     },
     "execution_count": 21,
     "metadata": {},
     "output_type": "execute_result"
    }
   ],
   "source": [
    "new_df.index.names"
   ],
   "metadata": {
    "collapsed": false,
    "ExecuteTime": {
     "end_time": "2024-02-07T10:13:21.634540Z",
     "start_time": "2024-02-07T10:13:21.457321900Z"
    }
   },
   "execution_count": 21
  },
  {
   "cell_type": "code",
   "outputs": [
    {
     "data": {
      "text/plain": "FrozenList([[2012, 2013, 2014], [1, 4, 7, 10]])"
     },
     "execution_count": 22,
     "metadata": {},
     "output_type": "execute_result"
    }
   ],
   "source": [
    "new_df.index.levels"
   ],
   "metadata": {
    "collapsed": false,
    "ExecuteTime": {
     "end_time": "2024-02-07T10:13:21.635548700Z",
     "start_time": "2024-02-07T10:13:21.461615900Z"
    }
   },
   "execution_count": 22
  },
  {
   "cell_type": "markdown",
   "source": [
    "## Series\n",
    "- 带索引的一维数组\n",
    "- 属性\n",
    "    - index\n",
    "    - values\n",
    "\n",
    "\n",
    "> 总结：DataFrame 是Series 的容器，Panel 是 DataFrame 的容器(Panel于新版本弃用)"
   ],
   "metadata": {
    "collapsed": false
   }
  },
  {
   "cell_type": "code",
   "outputs": [
    {
     "data": {
      "text/plain": "a    3\nb    5\nc    7\ndtype: int32"
     },
     "execution_count": 23,
     "metadata": {},
     "output_type": "execute_result"
    }
   ],
   "source": [
    "# 创建\n",
    "pd.Series(np.arange(3, 9, 2), index=[\"a\", \"b\", \"c\"])"
   ],
   "metadata": {
    "collapsed": false,
    "ExecuteTime": {
     "end_time": "2024-02-07T10:13:21.664520600Z",
     "start_time": "2024-02-07T10:13:21.465013200Z"
    }
   },
   "execution_count": 23
  },
  {
   "cell_type": "code",
   "outputs": [
    {
     "data": {
      "text/plain": "red        100\nblue       200\ngreen      500\nyellow    1000\ndtype: int64"
     },
     "execution_count": 24,
     "metadata": {},
     "output_type": "execute_result"
    }
   ],
   "source": [
    "# or\n",
    "pd.Series({'red':100, 'blue':200, 'green':500, 'yellow':1000})"
   ],
   "metadata": {
    "collapsed": false,
    "ExecuteTime": {
     "end_time": "2024-02-07T10:17:04.764786600Z",
     "start_time": "2024-02-07T10:17:04.754770900Z"
    }
   },
   "execution_count": 24
  },
  {
   "cell_type": "code",
   "outputs": [],
   "source": [
    "sr =data.iloc[1, :]"
   ],
   "metadata": {
    "collapsed": false,
    "ExecuteTime": {
     "end_time": "2024-02-07T10:17:27.395702800Z",
     "start_time": "2024-02-07T10:17:27.382154200Z"
    }
   },
   "execution_count": 25
  },
  {
   "cell_type": "code",
   "outputs": [
    {
     "data": {
      "text/plain": "DatetimeIndex(['2024-01-01', '2024-01-02', '2024-01-03', '2024-01-04',\n               '2024-01-05'],\n              dtype='datetime64[ns]', freq='B')"
     },
     "execution_count": 26,
     "metadata": {},
     "output_type": "execute_result"
    }
   ],
   "source": [
    "sr.index"
   ],
   "metadata": {
    "collapsed": false,
    "ExecuteTime": {
     "end_time": "2024-02-07T10:17:39.383936500Z",
     "start_time": "2024-02-07T10:17:39.371677900Z"
    }
   },
   "execution_count": 26
  },
  {
   "cell_type": "code",
   "outputs": [
    {
     "data": {
      "text/plain": "array([-0.55865509,  0.94867983,  0.72347952,  0.95251442,  1.21712382])"
     },
     "execution_count": 27,
     "metadata": {},
     "output_type": "execute_result"
    }
   ],
   "source": [
    "sr.values"
   ],
   "metadata": {
    "collapsed": false,
    "ExecuteTime": {
     "end_time": "2024-02-07T10:17:43.868435700Z",
     "start_time": "2024-02-07T10:17:43.856751900Z"
    }
   },
   "execution_count": 27
  },
  {
   "cell_type": "code",
   "outputs": [],
   "source": [],
   "metadata": {
    "collapsed": false
   }
  }
 ],
 "metadata": {
  "kernelspec": {
   "display_name": "Python 3",
   "language": "python",
   "name": "python3"
  },
  "language_info": {
   "name": "python",
   "version": "3.12.1"
  }
 },
 "nbformat": 4,
 "nbformat_minor": 2
}
